{
  "nbformat": 4,
  "nbformat_minor": 0,
  "metadata": {
    "deepnoteSessionId": "76cafd82-07c0-4343-8197-7e9ec1e00180",
    "colab": {
      "name": "Neural Networks Keras.ipynb",
      "provenance": [],
      "collapsed_sections": [],
      "toc_visible": true,
      "include_colab_link": true
    },
    "kernelspec": {
      "name": "python3",
      "display_name": "Python 3"
    },
    "accelerator": "TPU"
  },
  "cells": [
    {
      "cell_type": "markdown",
      "metadata": {
        "id": "view-in-github",
        "colab_type": "text"
      },
      "source": [
        "<a href=\"https://colab.research.google.com/github/Anyulund/Projects_overview/blob/master/Neural_Networks_Keras.ipynb\" target=\"_parent\"><img src=\"https://colab.research.google.com/assets/colab-badge.svg\" alt=\"Open In Colab\"/></a>"
      ]
    },
    {
      "cell_type": "code",
      "metadata": {
        "id": "AmG_cU86Z76W",
        "colab_type": "code",
        "colab": {
          "base_uri": "https://localhost:8080/",
          "height": 54
        },
        "outputId": "a59d10de-d5e5-4a03-e899-6586596a9891"
      },
      "source": [
        "from google.colab import drive\n",
        "drive.mount(\"/content/drive\")"
      ],
      "execution_count": null,
      "outputs": [
        {
          "output_type": "stream",
          "text": [
            "Drive already mounted at /content/drive; to attempt to forcibly remount, call drive.mount(\"/content/drive\", force_remount=True).\n"
          ],
          "name": "stdout"
        }
      ]
    },
    {
      "cell_type": "code",
      "metadata": {
        "tags": [],
        "id": "eIYn9AMPZ01E",
        "colab_type": "code",
        "colab": {
          "base_uri": "https://localhost:8080/",
          "height": 34
        },
        "outputId": "8cc8323e-e6e7-42de-a088-1ac99bbb3f15"
      },
      "source": [
        "import os\n",
        "import random\n",
        "import numpy as np\n",
        "import pandas as pd\n",
        "import matplotlib.pyplot as plt\n",
        "import tensorflow as tf\n",
        "import keras\n",
        "from tensorflow.keras import layers\n",
        "\n",
        "print(\"TensorFlow version:\", tf.__version__)\n",
        "\n",
        "SEED = 42\n",
        "os.environ['PYTHONHASHSEED'] = str(SEED)\n",
        "tf.random.set_random_seed(SEED)\n",
        "np.random.seed(SEED)\n",
        "random.seed(SEED)\n",
        "\n",
        "from keras import backend as K\n",
        "session_conf = tf.ConfigProto(intra_op_parallelism_threads = 1, inter_op_parallelism_threads = 1)\n",
        "sess = tf.Session(graph = tf.get_default_graph(), config=session_conf)\n",
        "K.set_session(sess)"
      ],
      "execution_count": null,
      "outputs": [
        {
          "output_type": "stream",
          "text": [
            "TensorFlow version: 1.14.0\n"
          ],
          "name": "stdout"
        }
      ]
    },
    {
      "cell_type": "code",
      "metadata": {
        "tags": [],
        "id": "78pR7SbaZ01H",
        "colab_type": "code",
        "colab": {}
      },
      "source": [
        "VERSION = \"v4\"\n",
        "DATA_PATH = \"/content/drive/My Drive/ML Data Playground/\""
      ],
      "execution_count": null,
      "outputs": []
    },
    {
      "cell_type": "code",
      "metadata": {
        "tags": [],
        "id": "HILiF184Z01L",
        "colab_type": "code",
        "colab": {}
      },
      "source": [
        "train_dataset = pd.read_csv(DATA_PATH + \"cleaned_train_data_\" + VERSION + \".csv\")\n",
        "test_dataset = pd.read_csv(DATA_PATH + \"cleaned_test_data_\" + VERSION + \".csv\")"
      ],
      "execution_count": null,
      "outputs": []
    },
    {
      "cell_type": "code",
      "metadata": {
        "tags": [],
        "id": "-cbKKJWoZ01N",
        "colab_type": "code",
        "colab": {
          "base_uri": "https://localhost:8080/",
          "height": 241
        },
        "outputId": "6260fbc2-5437-409a-c3e6-4413f6ff2361"
      },
      "source": [
        "# train_dataset.drop(columns = [\"Item_Identifier\", \"Outlet_Identifier\"], axis = 1, inplace = True)\n",
        "train_labels = train_dataset.pop(\"Item_Outlet_Sales\")\n",
        "train_dataset.head()"
      ],
      "execution_count": null,
      "outputs": [
        {
          "output_type": "execute_result",
          "data": {
            "text/html": [
              "<div>\n",
              "<style scoped>\n",
              "    .dataframe tbody tr th:only-of-type {\n",
              "        vertical-align: middle;\n",
              "    }\n",
              "\n",
              "    .dataframe tbody tr th {\n",
              "        vertical-align: top;\n",
              "    }\n",
              "\n",
              "    .dataframe thead th {\n",
              "        text-align: right;\n",
              "    }\n",
              "</style>\n",
              "<table border=\"1\" class=\"dataframe\">\n",
              "  <thead>\n",
              "    <tr style=\"text-align: right;\">\n",
              "      <th></th>\n",
              "      <th>Item_MRP</th>\n",
              "      <th>Item_Visibility</th>\n",
              "      <th>Item_Weight</th>\n",
              "      <th>Outlet_Years</th>\n",
              "      <th>Item_Fat_Content_Non-Edible</th>\n",
              "      <th>Item_Fat_Content_Regular</th>\n",
              "      <th>Item_Type_Breads</th>\n",
              "      <th>Item_Type_Breakfast</th>\n",
              "      <th>Item_Type_Canned</th>\n",
              "      <th>Item_Type_Dairy</th>\n",
              "      <th>Item_Type_Frozen Foods</th>\n",
              "      <th>Item_Type_Fruits and Vegetables</th>\n",
              "      <th>Item_Type_Hard Drinks</th>\n",
              "      <th>Item_Type_Health and Hygiene</th>\n",
              "      <th>Item_Type_Household</th>\n",
              "      <th>Item_Type_Meat</th>\n",
              "      <th>Item_Type_Others</th>\n",
              "      <th>Item_Type_Seafood</th>\n",
              "      <th>Item_Type_Snack Foods</th>\n",
              "      <th>Item_Type_Soft Drinks</th>\n",
              "      <th>Item_Type_Starchy Foods</th>\n",
              "      <th>Outlet_Location_Type_Tier 2</th>\n",
              "      <th>Outlet_Location_Type_Tier 3</th>\n",
              "      <th>Outlet_Size_Medium</th>\n",
              "      <th>Outlet_Size_High</th>\n",
              "      <th>Outlet_Type_Supermarket Type1</th>\n",
              "      <th>Outlet_Type_Supermarket Type2</th>\n",
              "      <th>Outlet_Type_Supermarket Type3</th>\n",
              "      <th>Item_Broad_Type_Food</th>\n",
              "      <th>Item_Broad_Type_Non-Consumable</th>\n",
              "    </tr>\n",
              "  </thead>\n",
              "  <tbody>\n",
              "    <tr>\n",
              "      <th>0</th>\n",
              "      <td>1.752511</td>\n",
              "      <td>-0.969852</td>\n",
              "      <td>-0.751014</td>\n",
              "      <td>-0.139681</td>\n",
              "      <td>0</td>\n",
              "      <td>0</td>\n",
              "      <td>0</td>\n",
              "      <td>0</td>\n",
              "      <td>0</td>\n",
              "      <td>1</td>\n",
              "      <td>0</td>\n",
              "      <td>0</td>\n",
              "      <td>0</td>\n",
              "      <td>0</td>\n",
              "      <td>0</td>\n",
              "      <td>0</td>\n",
              "      <td>0</td>\n",
              "      <td>0</td>\n",
              "      <td>0</td>\n",
              "      <td>0</td>\n",
              "      <td>0</td>\n",
              "      <td>0</td>\n",
              "      <td>0</td>\n",
              "      <td>1</td>\n",
              "      <td>0</td>\n",
              "      <td>1</td>\n",
              "      <td>0</td>\n",
              "      <td>0</td>\n",
              "      <td>1</td>\n",
              "      <td>0</td>\n",
              "    </tr>\n",
              "    <tr>\n",
              "      <th>1</th>\n",
              "      <td>-1.493696</td>\n",
              "      <td>-0.907063</td>\n",
              "      <td>-1.477653</td>\n",
              "      <td>-1.334228</td>\n",
              "      <td>0</td>\n",
              "      <td>1</td>\n",
              "      <td>0</td>\n",
              "      <td>0</td>\n",
              "      <td>0</td>\n",
              "      <td>0</td>\n",
              "      <td>0</td>\n",
              "      <td>0</td>\n",
              "      <td>0</td>\n",
              "      <td>0</td>\n",
              "      <td>0</td>\n",
              "      <td>0</td>\n",
              "      <td>0</td>\n",
              "      <td>0</td>\n",
              "      <td>0</td>\n",
              "      <td>1</td>\n",
              "      <td>0</td>\n",
              "      <td>0</td>\n",
              "      <td>1</td>\n",
              "      <td>1</td>\n",
              "      <td>0</td>\n",
              "      <td>0</td>\n",
              "      <td>1</td>\n",
              "      <td>0</td>\n",
              "      <td>0</td>\n",
              "      <td>0</td>\n",
              "    </tr>\n",
              "    <tr>\n",
              "      <th>2</th>\n",
              "      <td>0.009874</td>\n",
              "      <td>-0.956000</td>\n",
              "      <td>1.011839</td>\n",
              "      <td>-0.139681</td>\n",
              "      <td>0</td>\n",
              "      <td>0</td>\n",
              "      <td>0</td>\n",
              "      <td>0</td>\n",
              "      <td>0</td>\n",
              "      <td>0</td>\n",
              "      <td>0</td>\n",
              "      <td>0</td>\n",
              "      <td>0</td>\n",
              "      <td>0</td>\n",
              "      <td>0</td>\n",
              "      <td>1</td>\n",
              "      <td>0</td>\n",
              "      <td>0</td>\n",
              "      <td>0</td>\n",
              "      <td>0</td>\n",
              "      <td>0</td>\n",
              "      <td>0</td>\n",
              "      <td>0</td>\n",
              "      <td>1</td>\n",
              "      <td>0</td>\n",
              "      <td>1</td>\n",
              "      <td>0</td>\n",
              "      <td>0</td>\n",
              "      <td>1</td>\n",
              "      <td>0</td>\n",
              "    </tr>\n",
              "    <tr>\n",
              "      <th>3</th>\n",
              "      <td>0.661838</td>\n",
              "      <td>-1.281712</td>\n",
              "      <td>1.377308</td>\n",
              "      <td>-0.020226</td>\n",
              "      <td>0</td>\n",
              "      <td>1</td>\n",
              "      <td>0</td>\n",
              "      <td>0</td>\n",
              "      <td>0</td>\n",
              "      <td>0</td>\n",
              "      <td>0</td>\n",
              "      <td>1</td>\n",
              "      <td>0</td>\n",
              "      <td>0</td>\n",
              "      <td>0</td>\n",
              "      <td>0</td>\n",
              "      <td>0</td>\n",
              "      <td>0</td>\n",
              "      <td>0</td>\n",
              "      <td>0</td>\n",
              "      <td>0</td>\n",
              "      <td>0</td>\n",
              "      <td>1</td>\n",
              "      <td>1</td>\n",
              "      <td>0</td>\n",
              "      <td>0</td>\n",
              "      <td>0</td>\n",
              "      <td>0</td>\n",
              "      <td>1</td>\n",
              "      <td>0</td>\n",
              "    </tr>\n",
              "    <tr>\n",
              "      <th>4</th>\n",
              "      <td>-1.403623</td>\n",
              "      <td>-1.281712</td>\n",
              "      <td>-0.830557</td>\n",
              "      <td>1.293777</td>\n",
              "      <td>1</td>\n",
              "      <td>0</td>\n",
              "      <td>0</td>\n",
              "      <td>0</td>\n",
              "      <td>0</td>\n",
              "      <td>0</td>\n",
              "      <td>0</td>\n",
              "      <td>0</td>\n",
              "      <td>0</td>\n",
              "      <td>0</td>\n",
              "      <td>1</td>\n",
              "      <td>0</td>\n",
              "      <td>0</td>\n",
              "      <td>0</td>\n",
              "      <td>0</td>\n",
              "      <td>0</td>\n",
              "      <td>0</td>\n",
              "      <td>0</td>\n",
              "      <td>1</td>\n",
              "      <td>0</td>\n",
              "      <td>1</td>\n",
              "      <td>1</td>\n",
              "      <td>0</td>\n",
              "      <td>0</td>\n",
              "      <td>0</td>\n",
              "      <td>1</td>\n",
              "    </tr>\n",
              "  </tbody>\n",
              "</table>\n",
              "</div>"
            ],
            "text/plain": [
              "   Item_MRP  ...  Item_Broad_Type_Non-Consumable\n",
              "0  1.752511  ...                               0\n",
              "1 -1.493696  ...                               0\n",
              "2  0.009874  ...                               0\n",
              "3  0.661838  ...                               0\n",
              "4 -1.403623  ...                               1\n",
              "\n",
              "[5 rows x 30 columns]"
            ]
          },
          "metadata": {
            "tags": []
          },
          "execution_count": 103
        }
      ]
    },
    {
      "cell_type": "code",
      "metadata": {
        "tags": [],
        "id": "A6u4rYUAZ01R",
        "colab_type": "code",
        "colab": {
          "base_uri": "https://localhost:8080/",
          "height": 241
        },
        "outputId": "bf5d2da6-1ab1-4535-82b7-a1e4b55b75e9"
      },
      "source": [
        "test_dataset.head()"
      ],
      "execution_count": null,
      "outputs": [
        {
          "output_type": "execute_result",
          "data": {
            "text/html": [
              "<div>\n",
              "<style scoped>\n",
              "    .dataframe tbody tr th:only-of-type {\n",
              "        vertical-align: middle;\n",
              "    }\n",
              "\n",
              "    .dataframe tbody tr th {\n",
              "        vertical-align: top;\n",
              "    }\n",
              "\n",
              "    .dataframe thead th {\n",
              "        text-align: right;\n",
              "    }\n",
              "</style>\n",
              "<table border=\"1\" class=\"dataframe\">\n",
              "  <thead>\n",
              "    <tr style=\"text-align: right;\">\n",
              "      <th></th>\n",
              "      <th>Item_Identifier</th>\n",
              "      <th>Item_MRP</th>\n",
              "      <th>Item_Visibility</th>\n",
              "      <th>Item_Weight</th>\n",
              "      <th>Outlet_Identifier</th>\n",
              "      <th>Outlet_Years</th>\n",
              "      <th>Item_Fat_Content_Non-Edible</th>\n",
              "      <th>Item_Fat_Content_Regular</th>\n",
              "      <th>Item_Type_Breads</th>\n",
              "      <th>Item_Type_Breakfast</th>\n",
              "      <th>Item_Type_Canned</th>\n",
              "      <th>Item_Type_Dairy</th>\n",
              "      <th>Item_Type_Frozen Foods</th>\n",
              "      <th>Item_Type_Fruits and Vegetables</th>\n",
              "      <th>Item_Type_Hard Drinks</th>\n",
              "      <th>Item_Type_Health and Hygiene</th>\n",
              "      <th>Item_Type_Household</th>\n",
              "      <th>Item_Type_Meat</th>\n",
              "      <th>Item_Type_Others</th>\n",
              "      <th>Item_Type_Seafood</th>\n",
              "      <th>Item_Type_Snack Foods</th>\n",
              "      <th>Item_Type_Soft Drinks</th>\n",
              "      <th>Item_Type_Starchy Foods</th>\n",
              "      <th>Outlet_Location_Type_Tier 2</th>\n",
              "      <th>Outlet_Location_Type_Tier 3</th>\n",
              "      <th>Outlet_Size_Medium</th>\n",
              "      <th>Outlet_Size_High</th>\n",
              "      <th>Outlet_Type_Supermarket Type1</th>\n",
              "      <th>Outlet_Type_Supermarket Type2</th>\n",
              "      <th>Outlet_Type_Supermarket Type3</th>\n",
              "      <th>Item_Broad_Type_Food</th>\n",
              "      <th>Item_Broad_Type_Non-Consumable</th>\n",
              "    </tr>\n",
              "  </thead>\n",
              "  <tbody>\n",
              "    <tr>\n",
              "      <th>0</th>\n",
              "      <td>FDW58</td>\n",
              "      <td>-0.533831</td>\n",
              "      <td>-1.134699</td>\n",
              "      <td>1.710530</td>\n",
              "      <td>OUT049</td>\n",
              "      <td>-0.139681</td>\n",
              "      <td>0</td>\n",
              "      <td>0</td>\n",
              "      <td>0</td>\n",
              "      <td>0</td>\n",
              "      <td>0</td>\n",
              "      <td>0</td>\n",
              "      <td>0</td>\n",
              "      <td>0</td>\n",
              "      <td>0</td>\n",
              "      <td>0</td>\n",
              "      <td>0</td>\n",
              "      <td>0</td>\n",
              "      <td>0</td>\n",
              "      <td>0</td>\n",
              "      <td>1</td>\n",
              "      <td>0</td>\n",
              "      <td>0</td>\n",
              "      <td>0</td>\n",
              "      <td>0</td>\n",
              "      <td>1</td>\n",
              "      <td>0</td>\n",
              "      <td>1</td>\n",
              "      <td>0</td>\n",
              "      <td>0</td>\n",
              "      <td>1</td>\n",
              "      <td>0</td>\n",
              "    </tr>\n",
              "    <tr>\n",
              "      <th>1</th>\n",
              "      <td>FDW14</td>\n",
              "      <td>-0.864708</td>\n",
              "      <td>-0.534917</td>\n",
              "      <td>-0.965996</td>\n",
              "      <td>OUT017</td>\n",
              "      <td>-1.095319</td>\n",
              "      <td>0</td>\n",
              "      <td>1</td>\n",
              "      <td>0</td>\n",
              "      <td>0</td>\n",
              "      <td>0</td>\n",
              "      <td>1</td>\n",
              "      <td>0</td>\n",
              "      <td>0</td>\n",
              "      <td>0</td>\n",
              "      <td>0</td>\n",
              "      <td>0</td>\n",
              "      <td>0</td>\n",
              "      <td>0</td>\n",
              "      <td>0</td>\n",
              "      <td>0</td>\n",
              "      <td>0</td>\n",
              "      <td>0</td>\n",
              "      <td>1</td>\n",
              "      <td>0</td>\n",
              "      <td>1</td>\n",
              "      <td>0</td>\n",
              "      <td>1</td>\n",
              "      <td>0</td>\n",
              "      <td>0</td>\n",
              "      <td>1</td>\n",
              "      <td>0</td>\n",
              "    </tr>\n",
              "    <tr>\n",
              "      <th>2</th>\n",
              "      <td>NCN55</td>\n",
              "      <td>1.622763</td>\n",
              "      <td>0.653405</td>\n",
              "      <td>0.388391</td>\n",
              "      <td>OUT010</td>\n",
              "      <td>-0.020226</td>\n",
              "      <td>1</td>\n",
              "      <td>0</td>\n",
              "      <td>0</td>\n",
              "      <td>0</td>\n",
              "      <td>0</td>\n",
              "      <td>0</td>\n",
              "      <td>0</td>\n",
              "      <td>0</td>\n",
              "      <td>0</td>\n",
              "      <td>0</td>\n",
              "      <td>0</td>\n",
              "      <td>0</td>\n",
              "      <td>1</td>\n",
              "      <td>0</td>\n",
              "      <td>0</td>\n",
              "      <td>0</td>\n",
              "      <td>0</td>\n",
              "      <td>0</td>\n",
              "      <td>1</td>\n",
              "      <td>1</td>\n",
              "      <td>0</td>\n",
              "      <td>0</td>\n",
              "      <td>0</td>\n",
              "      <td>0</td>\n",
              "      <td>0</td>\n",
              "      <td>1</td>\n",
              "    </tr>\n",
              "    <tr>\n",
              "      <th>3</th>\n",
              "      <td>FDQ58</td>\n",
              "      <td>0.225966</td>\n",
              "      <td>-0.982657</td>\n",
              "      <td>-1.177753</td>\n",
              "      <td>OUT017</td>\n",
              "      <td>-1.095319</td>\n",
              "      <td>0</td>\n",
              "      <td>0</td>\n",
              "      <td>0</td>\n",
              "      <td>0</td>\n",
              "      <td>0</td>\n",
              "      <td>0</td>\n",
              "      <td>0</td>\n",
              "      <td>0</td>\n",
              "      <td>0</td>\n",
              "      <td>0</td>\n",
              "      <td>0</td>\n",
              "      <td>0</td>\n",
              "      <td>0</td>\n",
              "      <td>0</td>\n",
              "      <td>1</td>\n",
              "      <td>0</td>\n",
              "      <td>0</td>\n",
              "      <td>1</td>\n",
              "      <td>0</td>\n",
              "      <td>1</td>\n",
              "      <td>0</td>\n",
              "      <td>1</td>\n",
              "      <td>0</td>\n",
              "      <td>0</td>\n",
              "      <td>1</td>\n",
              "      <td>0</td>\n",
              "    </tr>\n",
              "    <tr>\n",
              "      <th>4</th>\n",
              "      <td>FDY38</td>\n",
              "      <td>1.501577</td>\n",
              "      <td>1.023121</td>\n",
              "      <td>0.173409</td>\n",
              "      <td>OUT027</td>\n",
              "      <td>1.532686</td>\n",
              "      <td>0</td>\n",
              "      <td>1</td>\n",
              "      <td>0</td>\n",
              "      <td>0</td>\n",
              "      <td>0</td>\n",
              "      <td>1</td>\n",
              "      <td>0</td>\n",
              "      <td>0</td>\n",
              "      <td>0</td>\n",
              "      <td>0</td>\n",
              "      <td>0</td>\n",
              "      <td>0</td>\n",
              "      <td>0</td>\n",
              "      <td>0</td>\n",
              "      <td>0</td>\n",
              "      <td>0</td>\n",
              "      <td>0</td>\n",
              "      <td>0</td>\n",
              "      <td>1</td>\n",
              "      <td>1</td>\n",
              "      <td>0</td>\n",
              "      <td>0</td>\n",
              "      <td>0</td>\n",
              "      <td>1</td>\n",
              "      <td>1</td>\n",
              "      <td>0</td>\n",
              "    </tr>\n",
              "  </tbody>\n",
              "</table>\n",
              "</div>"
            ],
            "text/plain": [
              "  Item_Identifier  ...  Item_Broad_Type_Non-Consumable\n",
              "0           FDW58  ...                               0\n",
              "1           FDW14  ...                               0\n",
              "2           NCN55  ...                               1\n",
              "3           FDQ58  ...                               0\n",
              "4           FDY38  ...                               0\n",
              "\n",
              "[5 rows x 32 columns]"
            ]
          },
          "metadata": {
            "tags": []
          },
          "execution_count": 104
        }
      ]
    },
    {
      "cell_type": "code",
      "metadata": {
        "id": "ryScQpFmbanA",
        "colab_type": "code",
        "colab": {}
      },
      "source": [
        "item_identifiers = test_dataset.pop(\"Item_Identifier\")\n",
        "outlet_identifiers = test_dataset.pop(\"Outlet_Identifier\")"
      ],
      "execution_count": null,
      "outputs": []
    },
    {
      "cell_type": "code",
      "metadata": {
        "id": "gx1QOmrRowMS",
        "colab_type": "code",
        "colab": {}
      },
      "source": [
        "from keras.layers import Dense, Dropout, ReLU, LeakyReLU"
      ],
      "execution_count": null,
      "outputs": []
    },
    {
      "cell_type": "code",
      "metadata": {
        "tags": [],
        "id": "Y1kVsEUXZ01n",
        "colab_type": "code",
        "colab": {}
      },
      "source": [
        "def build_model(optimizer_func, \n",
        "                hidden_nodes_layer1, hidden_nodes_layer2,\n",
        "                dropout_rate_layer1, dropout_rate_layer2,\n",
        "                activation_function_layer1, activation_function_layer2):\n",
        "  \"\"\"\n",
        "  Creating a custom function for building an ann model.\n",
        "  \"\"\"\n",
        "  \n",
        "  model = keras.Sequential()\n",
        "  model.add(Dense(hidden_nodes_layer1, activation=\"linear\", input_shape=[len(train_dataset.keys())]))\n",
        "  model.add(activation_function_layer1())\n",
        "  model.add(Dropout(dropout_rate_layer1, seed = SEED),)\n",
        "  model.add(Dense(hidden_nodes_layer2, activation=\"linear\"))\n",
        "  model.add(activation_function_layer2())\n",
        "  model.add(Dropout(dropout_rate_layer2, seed = SEED),)\n",
        "  model.add(Dense(1))\n",
        "\n",
        "  model.compile(loss = \"mean_squared_error\", \n",
        "                optimizer = optimizer_func(), \n",
        "                metrics = [\"mean_absolute_error\", \"mean_squared_error\"])\n",
        "  \n",
        "  return model"
      ],
      "execution_count": null,
      "outputs": []
    },
    {
      "cell_type": "code",
      "metadata": {
        "id": "Nui_EvvZkSfC",
        "colab_type": "code",
        "colab": {}
      },
      "source": [
        "def save_to_csv(model_predictions, filename):\n",
        "  result = pd.DataFrame({\n",
        "    \"Item_Identifier\": item_identifiers,\n",
        "    \"Outlet_Identifier\": outlet_identifiers,\n",
        "    \"Item_Outlet_Sales\": model_predictions\n",
        "  })\n",
        "\n",
        "  result.to_csv(filename, index = False)"
      ],
      "execution_count": null,
      "outputs": []
    },
    {
      "cell_type": "code",
      "metadata": {
        "id": "y88ikK9DYP5M",
        "colab_type": "code",
        "colab": {
          "base_uri": "https://localhost:8080/",
          "height": 1000
        },
        "outputId": "82acbba1-dff9-4391-ee88-a9a4ae4d443c"
      },
      "source": [
        "EPOCHS = 35\n",
        "\n",
        "from keras.wrappers.scikit_learn import KerasRegressor\n",
        "from sklearn.model_selection import RandomizedSearchCV\n",
        "\n",
        "hyperparameters = {\n",
        "  \"hidden_nodes_layer1\": np.arange(20, 100, 1),\n",
        "  \"hidden_nodes_layer2\": np.arange(20, 100, 1),\n",
        "  \"dropout_rate_layer1\": np.arange(0.001, 0.4, 0.01),\n",
        "  \"dropout_rate_layer2\": np.arange(0.001, 0.4, 0.01),\n",
        "  \"activation_function_layer1\": [ReLU, LeakyReLU],\n",
        "  \"activation_function_layer2\": [ReLU, LeakyReLU],\n",
        "  \"optimizer_func\": [keras.optimizers.RMSprop]\n",
        "}\n",
        "\n",
        "model = KerasRegressor(build_fn = build_model, epochs = EPOCHS)\n",
        "random_search = RandomizedSearchCV(estimator = model, param_distributions = hyperparameters, cv = 3, n_iter = 15, random_state=SEED)\n",
        "random_search.fit(train_dataset, train_labels, verbose = 0)"
      ],
      "execution_count": null,
      "outputs": [
        {
          "output_type": "stream",
          "text": [
            "2841/2841 [==============================] - 9s 3ms/step\n",
            "2841/2841 [==============================] - 9s 3ms/step\n",
            "2841/2841 [==============================] - 9s 3ms/step\n",
            "2841/2841 [==============================] - 9s 3ms/step\n",
            "2841/2841 [==============================] - 9s 3ms/step\n",
            "2841/2841 [==============================] - 9s 3ms/step\n",
            "2841/2841 [==============================] - 9s 3ms/step\n",
            "2841/2841 [==============================] - 9s 3ms/step\n",
            "2841/2841 [==============================] - 9s 3ms/step\n",
            "2841/2841 [==============================] - 9s 3ms/step\n",
            "2841/2841 [==============================] - 9s 3ms/step\n",
            "2841/2841 [==============================] - 9s 3ms/step\n",
            "2841/2841 [==============================] - 10s 3ms/step\n",
            "2841/2841 [==============================] - 9s 3ms/step\n",
            "2841/2841 [==============================] - 9s 3ms/step\n",
            "2841/2841 [==============================] - 9s 3ms/step\n",
            "2841/2841 [==============================] - 9s 3ms/step\n",
            "2841/2841 [==============================] - 10s 3ms/step\n",
            "2841/2841 [==============================] - 9s 3ms/step\n",
            "2841/2841 [==============================] - 9s 3ms/step\n",
            "2841/2841 [==============================] - 10s 3ms/step\n",
            "2841/2841 [==============================] - 10s 3ms/step\n",
            "2841/2841 [==============================] - 10s 3ms/step\n",
            "2841/2841 [==============================] - 10s 3ms/step\n",
            "2841/2841 [==============================] - 10s 3ms/step\n",
            "2841/2841 [==============================] - 9s 3ms/step\n",
            "2841/2841 [==============================] - 10s 3ms/step\n",
            "2841/2841 [==============================] - 10s 3ms/step\n",
            "2841/2841 [==============================] - 10s 3ms/step\n",
            "2841/2841 [==============================] - 9s 3ms/step\n",
            "2841/2841 [==============================] - 9s 3ms/step\n",
            "2841/2841 [==============================] - 10s 3ms/step\n",
            "2841/2841 [==============================] - 10s 3ms/step\n",
            "2841/2841 [==============================] - 10s 3ms/step\n",
            "2841/2841 [==============================] - 9s 3ms/step\n",
            "2841/2841 [==============================] - 10s 3ms/step\n",
            "2841/2841 [==============================] - 10s 3ms/step\n",
            "2841/2841 [==============================] - 10s 4ms/step\n",
            "2841/2841 [==============================] - 10s 3ms/step\n",
            "2841/2841 [==============================] - 10s 4ms/step\n",
            "2841/2841 [==============================] - 10s 3ms/step\n",
            "2841/2841 [==============================] - 10s 3ms/step\n",
            "2841/2841 [==============================] - 10s 4ms/step\n",
            "2841/2841 [==============================] - 10s 4ms/step\n",
            "2841/2841 [==============================] - 10s 4ms/step\n"
          ],
          "name": "stdout"
        },
        {
          "output_type": "execute_result",
          "data": {
            "text/plain": [
              "RandomizedSearchCV(cv=3, error_score='raise-deprecating',\n",
              "                   estimator=<keras.wrappers.scikit_learn.KerasRegressor object at 0x7f81c2912780>,\n",
              "                   iid='warn', n_iter=15, n_jobs=None,\n",
              "                   param_distributions={'activation_function_layer1': [<class 'keras.layers.advanced_activations.ReLU'>,\n",
              "                                                                       <class 'keras.layers.advanced_activations.LeakyReLU'>],\n",
              "                                        'activation_function_layer2': [<...\n",
              "                                        'hidden_nodes_layer2': array([20, 21, 22, 23, 24, 25, 26, 27, 28, 29, 30, 31, 32, 33, 34, 35, 36,\n",
              "       37, 38, 39, 40, 41, 42, 43, 44, 45, 46, 47, 48, 49, 50, 51, 52, 53,\n",
              "       54, 55, 56, 57, 58, 59, 60, 61, 62, 63, 64, 65, 66, 67, 68, 69, 70,\n",
              "       71, 72, 73, 74, 75, 76, 77, 78, 79, 80, 81, 82, 83, 84, 85, 86, 87,\n",
              "       88, 89, 90, 91, 92, 93, 94, 95, 96, 97, 98, 99]),\n",
              "                                        'optimizer_func': [<class 'keras.optimizers.RMSprop'>]},\n",
              "                   pre_dispatch='2*n_jobs', random_state=42, refit=True,\n",
              "                   return_train_score=False, scoring=None, verbose=0)"
            ]
          },
          "metadata": {
            "tags": []
          },
          "execution_count": 109
        }
      ]
    },
    {
      "cell_type": "code",
      "metadata": {
        "id": "42aZEKz56hQu",
        "colab_type": "code",
        "colab": {
          "base_uri": "https://localhost:8080/",
          "height": 136
        },
        "outputId": "8510fb57-2352-4e60-cb63-485c629a0ad3"
      },
      "source": [
        "random_search.best_params_"
      ],
      "execution_count": null,
      "outputs": [
        {
          "output_type": "execute_result",
          "data": {
            "text/plain": [
              "{'activation_function_layer1': keras.layers.advanced_activations.ReLU,\n",
              " 'activation_function_layer2': keras.layers.advanced_activations.LeakyReLU,\n",
              " 'dropout_rate_layer1': 0.12099999999999998,\n",
              " 'dropout_rate_layer2': 0.001,\n",
              " 'hidden_nodes_layer1': 58,\n",
              " 'hidden_nodes_layer2': 72,\n",
              " 'optimizer_func': keras.optimizers.RMSprop}"
            ]
          },
          "metadata": {
            "tags": []
          },
          "execution_count": 110
        }
      ]
    },
    {
      "cell_type": "code",
      "metadata": {
        "tags": [],
        "id": "XE0eZuUHZ011",
        "colab_type": "code",
        "colab": {}
      },
      "source": [
        "best_estimator_predictions = random_search.best_estimator_.predict(test_dataset).flatten()\n",
        "save_to_csv(best_estimator_predictions, \"ann_tuned_data_\" + VERSION + \"_predictions.csv\")"
      ],
      "execution_count": null,
      "outputs": []
    },
    {
      "cell_type": "markdown",
      "metadata": {
        "id": "F7G3HPWku7hZ",
        "colab_type": "text"
      },
      "source": [
        "# Saving the model"
      ]
    },
    {
      "cell_type": "code",
      "metadata": {
        "id": "2DMtjvlZm_iY",
        "colab_type": "code",
        "colab": {}
      },
      "source": [
        "import h5py\n",
        "from keras.models import model_from_json"
      ],
      "execution_count": null,
      "outputs": []
    },
    {
      "cell_type": "code",
      "metadata": {
        "id": "jGrsfdqKnIxB",
        "colab_type": "code",
        "colab": {}
      },
      "source": [
        "# Saving the model\n",
        "model_json = random_search.best_estimator_.model.to_json()\n",
        "with open(DATA_PATH + \"model.json\", \"w\") as json_file:\n",
        "    json_file.write(model_json)\n",
        "\n",
        "random_search.best_estimator_.model.save_weights(DATA_PATH + \"model.h5\")"
      ],
      "execution_count": null,
      "outputs": []
    },
    {
      "cell_type": "code",
      "metadata": {
        "id": "KPCJHQjTn7FO",
        "colab_type": "code",
        "colab": {}
      },
      "source": [
        "# # Loading the model\n",
        "# json_file = open(\"model.json\", \"r\")\n",
        "# loaded_model_json = json_file.read()\n",
        "# json_file.close()\n",
        "\n",
        "# loaded_model = model_from_json(loaded_model_json)\n",
        "# loaded_model.load_weights(\"model.h5\")\n",
        "\n",
        "# # Predicting using the loaded model\n",
        "# loaded_model_predictions = loaded_model.predict(test_dataset).flatten()"
      ],
      "execution_count": null,
      "outputs": []
    },
    {
      "cell_type": "markdown",
      "metadata": {
        "id": "rKTtXae8-GwM",
        "colab_type": "text"
      },
      "source": [
        "# TODOs\n",
        "* Try with other data preprocessing versions\n",
        "* Try with lower number of hidden nodes. For example: 4 hidden nodes in the first layer and then 2 in the second hidden layer\n",
        "* change to TPU\n",
        "* https://playground.tensorflow.org/#activation=tanh&batchSize=10&dataset=circle&regDataset=reg-plane&learningRate=0.03&regularizationRate=0&noise=0&networkShape=4,2&seed=0.49238&showTestData=false&discretize=false&percTrainData=20&x=true&y=true&xTimesY=false&xSquared=false&ySquared=false&cosX=false&sinX=false&cosY=false&sinY=false&collectStats=false&problem=regression&initZero=false&hideText=false"
      ]
    },
    {
      "cell_type": "code",
      "metadata": {
        "id": "U1KWffMmGolX",
        "colab_type": "code",
        "colab": {}
      },
      "source": [
        ""
      ],
      "execution_count": null,
      "outputs": []
    }
  ]
}